{
 "cells": [
  {
   "cell_type": "code",
   "execution_count": 3,
   "metadata": {
    "scrolled": true
   },
   "outputs": [
    {
     "name": "stdout",
     "output_type": "stream",
     "text": [
      "(70000, 784)\n"
     ]
    }
   ],
   "source": [
    "import glob, os, gc, sys\n",
    "import os.path\n",
    "import csv\n",
    "import numpy as np\n",
    "import matplotlib.pyplot as plt\n",
    "from matplotlib import offsetbox\n",
    "from time import time\n",
    "from subprocess import (call, Popen, PIPE)\n",
    "from itertools import product\n",
    "from sklearn import (manifold, datasets, decomposition, ensemble, discriminant_analysis, random_projection)\n",
    "from sklearn.decomposition import (PCA, RandomizedPCA)\n",
    "from sklearn.datasets import fetch_mldata\n",
    "from sklearn.utils import shuffle\n",
    "from IPython.display import Image\n",
    "from PIL import Image\n",
    "from IPython.display import Image as IPImage\n",
    "import shutil\n",
    "import re\n",
    "import xml.etree.ElementTree as ET\n",
    "import time\n",
    "from keras_dec import DeepEmbeddingClustering\n",
    "from keras.datasets import mnist\n",
    "\n",
    "\n",
    "def get_mnist():\n",
    "    np.random.seed(1234) # set seed for deterministic ordering\n",
    "    (x_train, y_train), (x_test, y_test) = mnist.load_data()\n",
    "    x_all = np.concatenate((x_train, x_test), axis = 0)\n",
    "    Y = np.concatenate((y_train, y_test), axis = 0)\n",
    "    X = x_all.reshape(-1,x_all.shape[1]*x_all.shape[2])\n",
    "    \n",
    "    p = np.random.permutation(X.shape[0])\n",
    "    X = X[p].astype(np.float32)*0.02\n",
    "    Y = Y[p]\n",
    "    return X, Y\n",
    "\n",
    "X, Y  = get_mnist()\n",
    "print(X.shape[:])\n",
    "\n",
    "\n",
    "c = DeepEmbeddingClustering(n_clusters=10, input_dim=784)\n",
    "c.initialize(X, finetune_iters=10000, layerwise_pretrain_iters=5000)\n",
    "print(\"Initalized\")\n",
    "c.cluster(X, y=Y)"
   ]
  },
  {
   "cell_type": "code",
   "execution_count": 2,
   "metadata": {},
   "outputs": [],
   "source": [
    "z = c.encoder.predict(X)\n",
    "pca_2d = PCA(n_components=2).fit(z)\n",
    "z_2d = pca_2d.transform(z)\n",
    "z_2d.shape\n",
    "plt.scatter(z_2d[:, 0], z_2d[:, 1], alpha=0.8)\n",
    "plt.axis('equal');"
   ]
  },
  {
   "cell_type": "code",
   "execution_count": 3,
   "metadata": {},
   "outputs": [
    {
     "data": {
      "image/png": "[encoded data removed]",
      "text/plain": [
       "<matplotlib.figure.Figure at 0x7fea6c321650>"
      ]
     },
     "metadata": {},
     "output_type": "display_data"
    }
   ],
   "source": [
    "z_2d.shape\n",
    "plt.scatter(z_2d[:, 0], z_2d[:, 1], alpha=0.8)\n",
    "plt.axis('equal');"
   ]
  },
  {
   "cell_type": "code",
   "execution_count": 4,
   "metadata": {
    "scrolled": true
   },
   "outputs": [
    {
     "name": "stdout",
     "output_type": "stream",
     "text": [
      "[t-SNE] Computing 121 nearest neighbors...\n",
      "[t-SNE] Indexed 70000 samples in 0.064s...\n",
      "[t-SNE] Computed neighbors for 70000 samples in 7.218s...\n",
      "[t-SNE] Computed conditional probabilities for sample 1000 / 70000\n",
      "[t-SNE] Computed conditional probabilities for sample 2000 / 70000\n",
      "[t-SNE] Computed conditional probabilities for sample 3000 / 70000\n",
      "[t-SNE] Computed conditional probabilities for sample 4000 / 70000\n",
      "[t-SNE] Computed conditional probabilities for sample 5000 / 70000\n",
      "[t-SNE] Computed conditional probabilities for sample 6000 / 70000\n",
      "[t-SNE] Computed conditional probabilities for sample 7000 / 70000\n",
      "[t-SNE] Computed conditional probabilities for sample 8000 / 70000\n",
      "[t-SNE] Computed conditional probabilities for sample 9000 / 70000\n",
      "[t-SNE] Computed conditional probabilities for sample 10000 / 70000\n",
      "[t-SNE] Computed conditional probabilities for sample 11000 / 70000\n",
      "[t-SNE] Computed conditional probabilities for sample 12000 / 70000\n",
      "[t-SNE] Computed conditional probabilities for sample 13000 / 70000\n",
      "[t-SNE] Computed conditional probabilities for sample 14000 / 70000\n",
      "[t-SNE] Computed conditional probabilities for sample 15000 / 70000\n",
      "[t-SNE] Computed conditional probabilities for sample 16000 / 70000\n",
      "[t-SNE] Computed conditional probabilities for sample 17000 / 70000\n",
      "[t-SNE] Computed conditional probabilities for sample 18000 / 70000\n",
      "[t-SNE] Computed conditional probabilities for sample 19000 / 70000\n",
      "[t-SNE] Computed conditional probabilities for sample 20000 / 70000\n",
      "[t-SNE] Computed conditional probabilities for sample 21000 / 70000\n",
      "[t-SNE] Computed conditional probabilities for sample 22000 / 70000\n",
      "[t-SNE] Computed conditional probabilities for sample 23000 / 70000\n",
      "[t-SNE] Computed conditional probabilities for sample 24000 / 70000\n",
      "[t-SNE] Computed conditional probabilities for sample 25000 / 70000\n",
      "[t-SNE] Computed conditional probabilities for sample 26000 / 70000\n",
      "[t-SNE] Computed conditional probabilities for sample 27000 / 70000\n",
      "[t-SNE] Computed conditional probabilities for sample 28000 / 70000\n",
      "[t-SNE] Computed conditional probabilities for sample 29000 / 70000\n",
      "[t-SNE] Computed conditional probabilities for sample 30000 / 70000\n",
      "[t-SNE] Computed conditional probabilities for sample 31000 / 70000\n",
      "[t-SNE] Computed conditional probabilities for sample 32000 / 70000\n",
      "[t-SNE] Computed conditional probabilities for sample 33000 / 70000\n",
      "[t-SNE] Computed conditional probabilities for sample 34000 / 70000\n",
      "[t-SNE] Computed conditional probabilities for sample 35000 / 70000\n",
      "[t-SNE] Computed conditional probabilities for sample 36000 / 70000\n",
      "[t-SNE] Computed conditional probabilities for sample 37000 / 70000\n",
      "[t-SNE] Computed conditional probabilities for sample 38000 / 70000\n",
      "[t-SNE] Computed conditional probabilities for sample 39000 / 70000\n",
      "[t-SNE] Computed conditional probabilities for sample 40000 / 70000\n",
      "[t-SNE] Computed conditional probabilities for sample 41000 / 70000\n",
      "[t-SNE] Computed conditional probabilities for sample 42000 / 70000\n",
      "[t-SNE] Computed conditional probabilities for sample 43000 / 70000\n",
      "[t-SNE] Computed conditional probabilities for sample 44000 / 70000\n",
      "[t-SNE] Computed conditional probabilities for sample 45000 / 70000\n",
      "[t-SNE] Computed conditional probabilities for sample 46000 / 70000\n",
      "[t-SNE] Computed conditional probabilities for sample 47000 / 70000\n",
      "[t-SNE] Computed conditional probabilities for sample 48000 / 70000\n",
      "[t-SNE] Computed conditional probabilities for sample 49000 / 70000\n",
      "[t-SNE] Computed conditional probabilities for sample 50000 / 70000\n",
      "[t-SNE] Computed conditional probabilities for sample 51000 / 70000\n",
      "[t-SNE] Computed conditional probabilities for sample 52000 / 70000\n",
      "[t-SNE] Computed conditional probabilities for sample 53000 / 70000\n",
      "[t-SNE] Computed conditional probabilities for sample 54000 / 70000\n",
      "[t-SNE] Computed conditional probabilities for sample 55000 / 70000\n",
      "[t-SNE] Computed conditional probabilities for sample 56000 / 70000\n",
      "[t-SNE] Computed conditional probabilities for sample 57000 / 70000\n",
      "[t-SNE] Computed conditional probabilities for sample 58000 / 70000\n",
      "[t-SNE] Computed conditional probabilities for sample 59000 / 70000\n",
      "[t-SNE] Computed conditional probabilities for sample 60000 / 70000\n",
      "[t-SNE] Computed conditional probabilities for sample 61000 / 70000\n",
      "[t-SNE] Computed conditional probabilities for sample 62000 / 70000\n",
      "[t-SNE] Computed conditional probabilities for sample 63000 / 70000\n",
      "[t-SNE] Computed conditional probabilities for sample 64000 / 70000\n",
      "[t-SNE] Computed conditional probabilities for sample 65000 / 70000\n",
      "[t-SNE] Computed conditional probabilities for sample 66000 / 70000\n",
      "[t-SNE] Computed conditional probabilities for sample 67000 / 70000\n",
      "[t-SNE] Computed conditional probabilities for sample 68000 / 70000\n",
      "[t-SNE] Computed conditional probabilities for sample 69000 / 70000\n",
      "[t-SNE] Computed conditional probabilities for sample 70000 / 70000\n",
      "[t-SNE] Mean sigma: 0.097641\n",
      "[t-SNE] KL divergence after 250 iterations with early exaggeration: 81.574829\n",
      "[t-SNE] Error after 5000 iterations: 1.931316\n",
      "t-SNE done! Time elapsed: 10641.12572 seconds\n"
     ]
    }
   ],
   "source": [
    "from sklearn.manifold import TSNE\n",
    "n_sne = 10000\n",
    "\n",
    "time_start = time.time()\n",
    "\n",
    "tsne = TSNE(n_components=2, verbose=1, perplexity=40, n_iter=5000)\n",
    "tsne_pca_results = tsne.fit_transform(z)\n",
    "\n",
    "print 't-SNE done! Time elapsed: {} seconds'.format(time.time()-time_start)"
   ]
  },
  {
   "cell_type": "code",
   "execution_count": 5,
   "metadata": {},
   "outputs": [
    {
     "data": {
      "image/png": "[encoded data removed]",
      "text/plain": [
       "<matplotlib.figure.Figure at 0x7fe9d009a090>"
      ]
     },
     "metadata": {},
     "output_type": "display_data"
    }
   ],
   "source": [
    "tsne_pca_results.shape\n",
    "plt.scatter(tsne_pca_results[:, 0], tsne_pca_results[:, 1], alpha=0.8)\n",
    "plt.axis('equal');"
   ]
  },
  {
   "cell_type": "code",
   "execution_count": 7,
   "metadata": {},
   "outputs": [
    {
     "data": {
      "text/plain": [
       "array([[ 15.97910213,   2.34339309,  -1.31241167, ...,  14.72887611,\n",
       "          5.86950159,  -2.89486599],\n",
       "       [ 15.40048885,   2.39747596,  -1.4781611 , ...,  14.3611517 ,\n",
       "          5.67703056,  -2.55050516],\n",
       "       [ -9.86961174,  -6.34934855,  11.03420639, ...,  -5.72651148,\n",
       "         -2.09218168, -10.69472599],\n",
       "       ..., \n",
       "       [ 23.31840134,   6.65654373,  -8.17636108, ...,  13.00031662,\n",
       "         24.02002525,  -3.06131935],\n",
       "       [ 23.69939423,   6.67179823,  -7.7906723 , ...,  13.04258156,\n",
       "         23.98094368,  -2.84184122],\n",
       "       [  5.76312876,   8.96581745,  13.40017128, ..., -11.61059475,\n",
       "         11.2160244 ,  19.82896805]], dtype=float32)"
      ]
     },
     "execution_count": 7,
     "metadata": {},
     "output_type": "execute_result"
    }
   ],
   "source": [
    "z"
   ]
  },
  {
   "cell_type": "code",
   "execution_count": 11,
   "metadata": {},
   "outputs": [
    {
     "name": "stderr",
     "output_type": "stream",
     "text": [
      "/home/ubuntu/anaconda3/envs/tensorflow_p27/lib/python2.7/site-packages/ggplot/utils.py:81: FutureWarning: pandas.tslib is deprecated and will be removed in a future version.\n",
      "You can access Timestamp as pandas.Timestamp\n",
      "  pd.tslib.Timestamp,\n",
      "/home/ubuntu/anaconda3/envs/tensorflow_p27/lib/python2.7/site-packages/ggplot/stats/smoothers.py:4: FutureWarning: The pandas.lib module is deprecated and will be removed in a future version. These are private functions and can be accessed from pandas._libs.lib instead\n",
      "  from pandas.lib import Timestamp\n",
      "/home/ubuntu/anaconda3/envs/tensorflow_p27/lib/python2.7/site-packages/statsmodels/compat/pandas.py:56: FutureWarning: The pandas.core.datetools module is deprecated and will be removed in a future version. Please use the pandas.tseries module instead.\n",
      "  from pandas.core import datetools\n"
     ]
    },
    {
     "ename": "TypeError",
     "evalue": "__init__() takes exactly 3 arguments (2 given)",
     "output_type": "error",
     "traceback": [
      "\u001b[0;31m---------------------------------------------------------------------------\u001b[0m",
      "\u001b[0;31mTypeError\u001b[0m                                 Traceback (most recent call last)",
      "\u001b[0;32m<ipython-input-11-d85dff8b1d94>\u001b[0m in \u001b[0;36m<module>\u001b[0;34m()\u001b[0m\n\u001b[1;32m      1\u001b[0m \u001b[0;32mfrom\u001b[0m \u001b[0mggplot\u001b[0m \u001b[0;32mimport\u001b[0m \u001b[0;34m*\u001b[0m\u001b[0;34m\u001b[0m\u001b[0m\n\u001b[1;32m      2\u001b[0m \u001b[0;34m\u001b[0m\u001b[0m\n\u001b[0;32m----> 3\u001b[0;31m \u001b[0mchart\u001b[0m \u001b[0;34m=\u001b[0m \u001b[0mggplot\u001b[0m\u001b[0;34m(\u001b[0m \u001b[0mclust_2d\u001b[0m \u001b[0;34m)\u001b[0m         \u001b[0;34m+\u001b[0m \u001b[0mgeom_point\u001b[0m\u001b[0;34m(\u001b[0m\u001b[0msize\u001b[0m\u001b[0;34m=\u001b[0m\u001b[0;36m75\u001b[0m\u001b[0;34m,\u001b[0m\u001b[0malpha\u001b[0m\u001b[0;34m=\u001b[0m\u001b[0;36m0.8\u001b[0m\u001b[0;34m)\u001b[0m         \u001b[0;34m+\u001b[0m \u001b[0mggtitle\u001b[0m\u001b[0;34m(\u001b[0m\u001b[0;34m\"First and Second Principal Components\"\u001b[0m\u001b[0;34m)\u001b[0m\u001b[0;34m\u001b[0m\u001b[0m\n\u001b[0m\u001b[1;32m      4\u001b[0m \u001b[0mchart\u001b[0m\u001b[0;34m\u001b[0m\u001b[0m\n",
      "\u001b[0;31mTypeError\u001b[0m: __init__() takes exactly 3 arguments (2 given)"
     ]
    }
   ],
   "source": [
    "from ggplot import *\n",
    "\n",
    "chart = ggplot( clust_2d ) \\\n",
    "        + geom_point(size=75,alpha=0.8) \\\n",
    "        + ggtitle(\"First and Second Principal Components\")\n",
    "chart"
   ]
  },
  {
   "cell_type": "code",
   "execution_count": null,
   "metadata": {},
   "outputs": [],
   "source": []
  }
 ],
 "metadata": {
  "kernelspec": {
   "display_name": "Environment (conda_tensorflow_p27)",
   "language": "python",
   "name": "conda_tensorflow_p27"
  },
  "language_info": {
   "codemirror_mode": {
    "name": "ipython",
    "version": 2
   },
   "file_extension": ".py",
   "mimetype": "text/x-python",
   "name": "python",
   "nbconvert_exporter": "python",
   "pygments_lexer": "ipython2",
   "version": "2.7.14"
  }
 },
 "nbformat": 4,
 "nbformat_minor": 2
}
